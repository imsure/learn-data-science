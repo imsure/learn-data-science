{
 "cells": [
  {
   "cell_type": "markdown",
   "metadata": {},
   "source": [
    "# My Python Scratch Book\n",
    "---"
   ]
  },
  {
   "cell_type": "markdown",
   "metadata": {},
   "source": [
    "## Numpy\n",
    "---"
   ]
  },
  {
   "cell_type": "markdown",
   "metadata": {},
   "source": [
    "### Applying boolean operations to numpy array"
   ]
  },
  {
   "cell_type": "code",
   "execution_count": 11,
   "metadata": {},
   "outputs": [
    {
     "name": "stdout",
     "output_type": "stream",
     "text": [
      "prize:  [0 0 2 0 2 0 1 2 2 1]\n",
      "guess:  [0 2 2 2 1 0 2 2 2 1]\n",
      "result: [0 0 2 2 1 0 0 2 0 2]\n",
      "bad: [ True  True  True  True  True  True False  True False False]\n",
      "True\n",
      "7\n",
      "[0 0 2 2 1 0 2]\n"
     ]
    }
   ],
   "source": [
    "import numpy as np\n",
    "prize_door = np.random.randint(0, 3, 10)\n",
    "guesses = np.random.randint(0, 3, 10)\n",
    "result = np.random.randint(0, 3, 10)\n",
    "\n",
    "print ('prize: ', prize_door)\n",
    "print ('guess: ', guesses)\n",
    "print ('result:', result)\n",
    "\n",
    "bad = (result == prize_door) | (result == guesses)\n",
    "print ('bad:', bad)\n",
    "print (bad.any()) # return True if any elements in bad is True!\n",
    "print (bad.sum()) # return the # of True's in bad since False is evaluated as 0 while True\n",
    "                  # is evalulated as 1\n",
    "print (result[bad]) # this will return all elements in result that are evaluated to be True"
   ]
  },
  {
   "cell_type": "markdown",
   "metadata": {},
   "source": [
    "The above code snippet finds out whether or not the elements in `result` are different with the corresponding elements in both `prize_door` and `guesses`. The result of doing this is a numpy array `bad` with each element indicating whether it's true or false. \n",
    "\n",
    "So in numpy we can actually apply boolean operations directly to numpy arrays, there is no need (and not elegant and efficient) to do it one element by one element."
   ]
  },
  {
   "cell_type": "markdown",
   "metadata": {},
   "source": [
    "### Use of any() and sum() methods of numpy array"
   ]
  },
  {
   "cell_type": "code",
   "execution_count": 16,
   "metadata": {
    "scrolled": false
   },
   "outputs": [
    {
     "name": "stdout",
     "output_type": "stream",
     "text": [
      "prize:  [0 0 0 0 0 1 1 2 2 2]\n",
      "guess:  [1 0 2 0 2 0 1 2 0 2]\n",
      "result: [1 1 1 2 2 1 0 0 0 0]\n",
      "bad: [ True False False False  True  True False False  True False]\n",
      "prize:  [0 0 0 0 0 1 1 2 2 2]\n",
      "guess:  [1 0 2 0 2 0 1 2 0 2]\n",
      "result: [2 1 1 2 0 2 0 0 2 0]\n",
      "bad: [False False False False  True False False False  True False]\n",
      "prize:  [0 0 0 0 0 1 1 2 2 2]\n",
      "guess:  [1 0 2 0 2 0 1 2 0 2]\n",
      "result: [2 1 1 2 0 2 0 0 1 0]\n",
      "bad: [False False False False  True False False False False False]\n",
      "prize:  [0 0 0 0 0 1 1 2 2 2]\n",
      "guess:  [1 0 2 0 2 0 1 2 0 2]\n",
      "result: [2 1 1 2 0 2 0 0 1 0]\n",
      "bad: [False False False False  True False False False False False]\n",
      "prize:  [0 0 0 0 0 1 1 2 2 2]\n",
      "guess:  [1 0 2 0 2 0 1 2 0 2]\n",
      "result: [2 1 1 2 0 2 0 0 1 0]\n",
      "bad: [False False False False  True False False False False False]\n",
      "prize:  [0 0 0 0 0 1 1 2 2 2]\n",
      "guess:  [1 0 2 0 2 0 1 2 0 2]\n",
      "result: [2 1 1 2 2 2 0 0 1 0]\n",
      "bad: [False False False False  True False False False False False]\n",
      "prize:  [0 0 0 0 0 1 1 2 2 2]\n",
      "guess:  [1 0 2 0 2 0 1 2 0 2]\n",
      "result: [2 1 1 2 0 2 0 0 1 0]\n",
      "bad: [False False False False  True False False False False False]\n",
      "prize:  [0 0 0 0 0 1 1 2 2 2]\n",
      "guess:  [1 0 2 0 2 0 1 2 0 2]\n",
      "result: [2 1 1 2 2 2 0 0 1 0]\n",
      "bad: [False False False False  True False False False False False]\n",
      "prize:  [0 0 0 0 0 1 1 2 2 2]\n",
      "guess:  [1 0 2 0 2 0 1 2 0 2]\n",
      "result: [2 1 1 2 0 2 0 0 1 0]\n",
      "bad: [False False False False  True False False False False False]\n",
      "prize:  [0 0 0 0 0 1 1 2 2 2]\n",
      "guess:  [1 0 2 0 2 0 1 2 0 2]\n",
      "result: [2 1 1 2 2 2 0 0 1 0]\n",
      "bad: [False False False False  True False False False False False]\n",
      "prize:  [0 0 0 0 0 1 1 2 2 2]\n",
      "guess:  [1 0 2 0 2 0 1 2 0 2]\n",
      "result: [2 1 1 2 2 2 0 0 1 0]\n",
      "bad: [False False False False  True False False False False False]\n",
      "prize:  [0 0 0 0 0 1 1 2 2 2]\n",
      "guess:  [1 0 2 0 2 0 1 2 0 2]\n",
      "result: [2 1 1 2 1 2 0 0 1 0]\n",
      "bad: [False False False False False False False False False False]\n"
     ]
    }
   ],
   "source": [
    "prize_door = np.random.randint(0, 3, 10)\n",
    "guesses = np.random.randint(0, 3, 10)\n",
    "result = np.random.randint(0, 3, 10)\n",
    "while True:\n",
    "    bad = (result == prize_door) | (result == guesses)\n",
    "    print ('prize: ', prize_door)\n",
    "    print ('guess: ', guesses)\n",
    "    print ('result:', result)\n",
    "    print ('bad:', bad)\n",
    "    if not bad.any():\n",
    "        break\n",
    "    result[bad] = np.random.randint(0, 3, bad.sum())"
   ]
  },
  {
   "cell_type": "markdown",
   "metadata": {
    "collapsed": true
   },
   "source": [
    "The above code iteratively replace all the elements in `result` that are the same with either of `prize_door` or `guesses` until all elements in `result` are different with both `prize_door` and `guesses`."
   ]
  },
  {
   "cell_type": "markdown",
   "metadata": {},
   "source": [
    "### Use of where() and ones_like() in Numpy"
   ]
  },
  {
   "cell_type": "code",
   "execution_count": 23,
   "metadata": {},
   "outputs": [
    {
     "name": "stdout",
     "output_type": "stream",
     "text": [
      "prizedoors: [2 1 1 1 2 0 2 0 2 0]\n",
      "guesses:    [2 2 2 0 2 1 0 1 1 1]\n",
      "goatdoors:  [1 0 0 2 1 2 1 2 0 2]\n",
      "mask: [False False False False False False False False False False]\n",
      "mask: [False False False False False False  True False False False]\n",
      "result: [ 0.  0.  0.  0.  0.  0.  2.  0.  0.  0.]\n",
      "mask: [False False False  True False False False False False False]\n",
      "result: [ 0.  0.  0.  1.  0.  0.  2.  0.  0.  0.]\n",
      "mask: [False False False False False False False False  True False]\n",
      "result: [ 0.  0.  0.  1.  0.  0.  2.  0.  2.  0.]\n",
      "mask: [False False False False False False False False False False]\n",
      "mask: [False False False False False  True False  True False  True]\n",
      "result: [ 0.  0.  0.  1.  0.  0.  2.  0.  2.  0.]\n",
      "mask: [False  True  True False False False False False False False]\n",
      "result: [ 0.  1.  1.  1.  0.  0.  2.  0.  2.  0.]\n",
      "mask: [ True False False False  True False False False False False]\n",
      "result: [ 0.  1.  1.  1.  0.  0.  2.  0.  2.  0.]\n",
      "mask: [False False False False False False False False False False]\n"
     ]
    }
   ],
   "source": [
    "def goat_door(prizedoors, guesses):    \n",
    "    #strategy: generate random answers, and\n",
    "    #keep updating until they satisfy the rule\n",
    "    #that they aren't a prizedoor or a guess\n",
    "    result = np.random.randint(0, 3, prizedoors.size)\n",
    "    while True:\n",
    "        bad = (result == prizedoors) | (result == guesses)\n",
    "        if not bad.any():\n",
    "            return result\n",
    "        result[bad] = np.random.randint(0, 3, bad.sum())\n",
    "        \n",
    "prizedoors = np.random.randint(0, 3, 10)\n",
    "guesses = np.random.randint(0, 3, 10)\n",
    "goatdoors = goat_door(prizedoors, guesses)\n",
    "\n",
    "print ('prizedoors:', prizedoors)\n",
    "print ('guesses:   ', guesses)\n",
    "print ('goatdoors: ', goatdoors)\n",
    "print\n",
    "\n",
    "result = np.zeros(guesses.size)\n",
    "switch = {(0, 1): 2, (0, 2): 1, (1, 0): 2, (1, 2): 0, (2, 0): 1, (2, 1): 0}\n",
    "for i in [0, 1, 2]:\n",
    "    for j in [0, 1, 2]:\n",
    "        mask = (guesses == i) & (goatdoors == j)\n",
    "        print ('mask:', mask)\n",
    "        if not mask.any():\n",
    "            continue\n",
    "        result = np.where(mask, np.ones_like(result) * switch[(i, j)], result)\n",
    "        print ('result:', result)"
   ]
  },
  {
   "cell_type": "code",
   "execution_count": 31,
   "metadata": {},
   "outputs": [
    {
     "name": "stdout",
     "output_type": "stream",
     "text": [
      "[ True  True False False False]\n",
      "0.4\n",
      "40.0\n"
     ]
    }
   ],
   "source": [
    "prizedoors = np.array([1, 0, 2, 0, 1])\n",
    "guesses = np.array([1, 0, 0, 1, 2])\n",
    "print (guesses == prizedoors)\n",
    "print ((guesses == prizedoors).mean())\n",
    "print (100 * (guesses == prizedoors).mean())"
   ]
  },
  {
   "cell_type": "code",
   "execution_count": 17,
   "metadata": {},
   "outputs": [
    {
     "data": {
      "text/plain": [
       "range(0, 5)"
      ]
     },
     "execution_count": 17,
     "metadata": {},
     "output_type": "execute_result"
    }
   ],
   "source": [
    "range(5)"
   ]
  },
  {
   "cell_type": "code",
   "execution_count": null,
   "metadata": {
    "collapsed": true
   },
   "outputs": [],
   "source": []
  }
 ],
 "metadata": {
  "kernelspec": {
   "display_name": "Python 3",
   "language": "python",
   "name": "python3"
  },
  "language_info": {
   "codemirror_mode": {
    "name": "ipython",
    "version": 3
   },
   "file_extension": ".py",
   "mimetype": "text/x-python",
   "name": "python",
   "nbconvert_exporter": "python",
   "pygments_lexer": "ipython3",
   "version": "3.4.2"
  }
 },
 "nbformat": 4,
 "nbformat_minor": 2
}
